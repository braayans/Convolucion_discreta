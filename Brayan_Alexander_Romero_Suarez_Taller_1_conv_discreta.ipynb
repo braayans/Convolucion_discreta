{
  "nbformat": 4,
  "nbformat_minor": 0,
  "metadata": {
    "colab": {
      "provenance": []
    },
    "kernelspec": {
      "name": "python3",
      "display_name": "Python 3"
    }
  },
  "cells": [
    {
      "cell_type": "markdown",
      "metadata": {
        "id": "vPrcLBwMIk53"
      },
      "source": [
        "# **UNIVERSIDAD MILITAR NUEVA GRANADA**\n",
        "\n",
        "---\n",
        "# **INGENIERÍA EN TELECOMUNICACIONES**\n",
        "---\n",
        "\n",
        "# **CONVOLUCIÓN DISCRETA**\n",
        "\n",
        "---\n",
        "Nombre: Brayan Alexander Romero Suarez\n",
        "\n",
        "---\n",
        "\n",
        "\n",
        "\n",
        "\n"
      ]
    },
    {
      "cell_type": "markdown",
      "metadata": {
        "id": "LY6iSWfoJuLF"
      },
      "source": [
        "**El taller se debe entregar de forma individual.**\n",
        "\n",
        "---\n",
        "**Si el taller se entrega de forma posterior al día y hora señalados, no será calificado.**\n",
        "\n",
        "---\n",
        "# Fecha de entrega:  22 de febrero de 2023.\n",
        "# Hora máxima de entrega:  7:00 a.m.\n"
      ]
    },
    {
      "cell_type": "code",
      "metadata": {
        "id": "3-jjH-JLIgTe",
        "colab": {
          "base_uri": "https://localhost:8080/",
          "height": 534
        },
        "outputId": "8aba9df3-29d3-4220-9c18-9d00aae8c9be"
      },
      "source": [
        "# PRIMERA PARTE:\n",
        "\n",
        "#.  Asuma una señal x[n], mínimo de 5 impulsos diferentes de cero\n",
        "#.  Escriba matemáticamente la señal x[n]\n",
        "#.  Asuma una señal h[n], mínimo de 3 impulsos diferentes de cero\n",
        "#.  Escriba matemáticamente la señal h[n]\n",
        "#.  Dibuje las dos señales\n",
        "\n",
        "#______________________________________________\n",
        "import numpy as np\n",
        "import matplotlib\n",
        "import matplotlib.pyplot as plt\n",
        "\n",
        "# Señales\n",
        "# x[n]= s[n+3] + 2s[n+2] + 3s[n+1] + 2s[n-0] + 4s[n-1] + 3s[n-2] + s[n-3]\n",
        "# h[n]= 3s[n-2] + 2s[n-3] + 3s[n-4]\n",
        "\n",
        "x=np.array([[1,-3],[2,-2],[3,-1],[2,0],[4,1],[3,2],[1,3]]) #Amplitudes junto a su tiempo\n",
        "\n",
        "h=np.array([[3,2],[2,3],[3,4]])  #Amplitudes junto con su tiempo\n",
        "\n",
        "plt.rcParams[\"figure.figsize\"] = (14,8) #Tamaño de graficos\n",
        "\n",
        "#Grafica superior\n",
        "ax=plt.subplot(2,1,1) \n",
        "plt.stem(x[:,1] , x[:,0],use_line_collection=True )\n",
        "plt.title('x[n]')\n",
        "\n",
        "#Grafica inferior\n",
        "ax=plt.subplot(2,1,2)\n",
        "plt.stem(h[:,1] , h[:,0],use_line_collection=True)\n",
        "plt.title('h[n]')\n",
        "\n",
        "#Ecuaciones\n",
        "print(\"x[n] = \", end=\" \")\n",
        "for i in range(len(x[:,0])):\n",
        "  if i==0:\n",
        "    if x[i,1]>=0 and i != 0 :\n",
        "      print(x[i,0],\"s [n -\",x[i,1],\"] \",end=\"\")\n",
        "    else:\n",
        "      print(x[i,0],\"s [n +\",-x[i,1],\"] \",end=\"\")\n",
        "  if i!=0:\n",
        "    if x[i,1]>=0 and i != 0 :\n",
        "      print(\" + \",x[i,0],\"s [n -\",x[i,1],\"] \",end=\"\")\n",
        "    else:\n",
        "      print(\" + \",x[i,0],\"s [n +\",-x[i,1],\"] \",end=\"\")\n",
        "\n",
        "print()\n",
        "\n",
        "print(\"h[n] = \", end=\" \")\n",
        "for i in range(len(h[:,0])):\n",
        "  if i==0:\n",
        "    if h[i,1]>=0 and i != 0 :\n",
        "      print(h[i,0],\"s [n -\",h[i,1],\"] \",end=\"\")\n",
        "    else:\n",
        "      print(h[i,0],\"s [n +\",-h[i,1],\"] \",end=\"\")\n",
        "  if i!=0:\n",
        "    if h[i,1]>=0 and i != 0 :\n",
        "      print(\" + \",h[i,0],\"s [n -\",h[i,1],\"] \",end=\"\")\n",
        "    else:\n",
        "      print(\" + \",h[i,0],\"s [n +\",-h[i,1],\"] \",end=\"\")\n",
        "\n"
      ],
      "execution_count": null,
      "outputs": [
        {
          "output_type": "stream",
          "name": "stdout",
          "text": [
            "x[n] =  1 s [n + 3 ]  +  2 s [n + 2 ]  +  3 s [n + 1 ]  +  2 s [n - 0 ]  +  4 s [n - 1 ]  +  3 s [n - 2 ]  +  1 s [n - 3 ] \n",
            "h[n] =  3 s [n + -2 ]  +  2 s [n - 3 ]  +  3 s [n - 4 ] "
          ]
        },
        {
          "output_type": "display_data",
          "data": {
            "text/plain": [
              "<Figure size 1008x576 with 2 Axes>"
            ],
            "image/png": "[encoded data removed]"
          },
          "metadata": {
            "needs_background": "light"
          }
        }
      ]
    },
    {
      "cell_type": "code",
      "metadata": {
        "id": "duqf4DuGJGdL",
        "colab": {
          "base_uri": "https://localhost:8080/",
          "height": 536
        },
        "outputId": "61e36ac8-0859-48ac-b484-ac20b1b8b9e6"
      },
      "source": [
        "#. SEGUNDA PARTE\n",
        "\n",
        "#.  Realice convolución método 1\n",
        "#.  Dibuje el paso a paso y la señal de salida resultante\n",
        "#.  Escriba matemáticamente la señal y[n]\n",
        "\n",
        "#______________________________________________\n",
        "\n",
        "\n",
        "x_final=np.zeros((len(x[:,1]), len(x[1,:])))\n",
        "conv1=np.zeros((len(x[:,1]), len(x[1,:])))\n",
        "conv2=np.zeros((len(x[:,1]), len(x[1,:])))\n",
        "conv3=np.zeros((len(x[:,1]), len(x[1,:])))\n",
        "\n",
        "\n",
        "#Se hacen las tres convoluciones de forma independiente\n",
        "for i in range(3):\n",
        "  ax=plt.subplot(2,2,i+1)\n",
        "  x1=np.array(x)\n",
        "\n",
        "  x1[:,1]=x1[:,1] + h[i,1] #Suma de tiempos\n",
        "  x1[:,0]=x1[:,0] * h[i,0] #Multiplicacion de amplitudes\n",
        "  \n",
        "  if i==0:\n",
        "    conv1[:,:]=x1[:,:]\n",
        "  elif i==1:\n",
        "    conv2[:,:]=x1[:,:]\n",
        "  else:\n",
        "    conv3[:,:]=x1[:,:]\n",
        "\n",
        "  plt.stem(x1[:,1] , x1[:,0],use_line_collection=True )\n",
        "  plt.title(\"Paso \" + str(i+1))\n",
        "#-----------------------FIN FOR----------------------------------------\n",
        "\n",
        "#Se suman los convoluciones obtenidas\n",
        "\n",
        "for i in range(len(conv1[:,1])-1):\n",
        "  x_final[i,0]=conv1[i+1,0] + conv2[i,0] #Suma de amplitudes en comun entre conv1 y conv2\n",
        "  x_final[i,1]=conv1[i+1,1] #Agregas tiempos en comun entre conv1 y conv2\n",
        "\n",
        "for i in range(len(conv1[:,1])-2):\n",
        "  #Suma componenentes en comun entre suma 1,2 y conv3\n",
        "  x_final[i+1,0]=x_final[i+1,0] + conv3[i,0]\n",
        "\n",
        "\n",
        "for i in range(len(conv1[:,1])-1):\n",
        "  if conv1[i,1] not in x_final[:,1]:\n",
        "    #Agrega tiempos que solo estan en conv1  \n",
        "    x_final=np.insert(x_final,0,[[conv1[i,0] , conv1[i,1]]],axis=0)\n",
        "\n",
        "for i in range(len(conv1[:,1])):\n",
        "  #Agrega tiempos en comun de conv2 y conv3 \n",
        "  if (conv2[i,1] not in x_final[:,1]) and (conv2[i,1]==conv3[i-1,1]): \n",
        "    x_final=np.insert(x_final,0,[[conv2[i,0] , conv2[i,1]]],axis=0)\n",
        "    x_final=np.insert(x_final,0,[[conv3[i-1,0] , conv3[i-1,1]]],axis=0)\n",
        "\n",
        "#Agrega tiempos que esten unicamente en conv3\n",
        "for i in range(len(conv1[:,1])):\n",
        "  if conv3[i,1] not in x_final[:,1]:\n",
        "    x_final=np.insert(x_final,0,[[conv3[i,0] , conv3[i,1]]],axis=0)\n",
        "\n",
        "#Suma amplitudes de tiempos repetidos y borra para solo tener uno final\n",
        "for i in range(len(x_final[:,1])-2):\n",
        "  if x_final[i,1] == x_final[i+1,1]:\n",
        "    x_final[i,0] += x_final[i+1,0]\n",
        "    x_final=np.delete(x_final,i+1,axis=0)\n",
        "\n",
        "#Borra elemento original de la matrices de ceros\n",
        "x_final=np.delete(x_final,-1,axis=0)\n",
        "\n",
        "#Grafica convolucion final\n",
        "ax=plt.subplot(2,2,4)\n",
        "plt.stem(x_final[:,1] , x_final[:,0],use_line_collection=True)\n",
        "plt.title('Total')\n",
        "\n",
        "#Ecuacion del resultado\n",
        "print(\"y[n] = \", end=\" \")\n",
        "for i in range(len(x_final[:,0])):\n",
        "  if i==0:\n",
        "    if x_final[i,1]>=0 and i != 0 :\n",
        "      print(x_final[i,0],\"s [n -\",x_final[i,1],\"] \",end=\"\")\n",
        "    else:\n",
        "      print(x_final[i,0],\"s [n \",-x_final[i,1],\"] \",end=\"\")\n",
        "  if i!=0:\n",
        "    if x_final[i,1]>=0 and i != 0 :\n",
        "      print(\" + \",x_final[i,0],\"s [n -\",x_final[i,1],\"] \",end=\"\")\n",
        "    else:\n",
        "      print(\" + \",x_final[i,0],\"s [n +\",-x_final[i,1],\"] \",end=\"\")\n",
        "\n"
      ],
      "execution_count": null,
      "outputs": [
        {
          "output_type": "stream",
          "name": "stdout",
          "text": [
            "y[n] =  3.0 s [n  -7.0 ]  +  11.0 s [n - 6.0 ]  +  3.0 s [n + 1.0 ]  +  8.0 s [n - 0.0 ]  +  16.0 s [n - 1.0 ]  +  18.0 s [n - 2.0 ]  +  25.0 s [n - 3.0 ]  +  23.0 s [n - 4.0 ]  +  21.0 s [n - 5.0 ] "
          ]
        },
        {
          "output_type": "display_data",
          "data": {
            "text/plain": [
              "<Figure size 1008x576 with 4 Axes>"
            ],
            "image/png": "[encoded data removed]"
          },
          "metadata": {
            "needs_background": "light"
          }
        }
      ]
    },
    {
      "cell_type": "code",
      "source": [
        "x_profe=np.array([1,2,3,2,4,3,1])\n",
        "h_profe=np.array([3, 2,3])\n",
        "resultado = np.convolve(x_profe,h_profe)\n",
        "print(resultado)"
      ],
      "metadata": {
        "colab": {
          "base_uri": "https://localhost:8080/"
        },
        "id": "seoiK2OEfiG0",
        "outputId": "bcd28c1f-e191-4131-b34b-cbb6d6534c62"
      },
      "execution_count": null,
      "outputs": [
        {
          "output_type": "stream",
          "name": "stdout",
          "text": [
            "[ 3  8 16 18 25 23 21 11  3]\n"
          ]
        }
      ]
    },
    {
      "cell_type": "code",
      "metadata": {
        "id": "kH-Gn_qqJetP",
        "colab": {
          "base_uri": "https://localhost:8080/",
          "height": 536
        },
        "outputId": "be4602df-9599-4ef7-f997-5a18a5fc8528"
      },
      "source": [
        "#. TERCERA PARTE\n",
        "\n",
        "#.  Realice convolución método 2\n",
        "#.  Dibuje el paso a paso y la señal de salida resultante\n",
        "#.  Escriba matemáticamente la señal y[n]\n",
        "\n",
        "#______________________________________________\n",
        "# Inserte código aquí\n",
        "\n",
        "plt.rcParams[\"figure.figsize\"] = (18,8)\n",
        "xk=np.array(x)\n",
        "hk=np.array(h)\n",
        "#Matriz resultado con las dimensiones del resultado\n",
        "result=np.zeros((len(xk[:,1]) + (len(hk[:,1])-1),2)) \n",
        "\n",
        "#Tiempos\n",
        "j=1\n",
        "while j < len(hk[:,1]):\n",
        "  for i in range((len(xk[:,1])) + (len(hk[:,1])-1)):#Recorre primeros 7 valores  \n",
        "    if i < len(xk[:,1]): \n",
        "      result[i,1]= hk[i-i,1] + xk[i,1] #Suma h[n-2] a las componentes\n",
        "      j=1\n",
        "    else:\n",
        "      #Despues de 7 valores se suman al ultimo valor de xk\n",
        "      result[i,1]= hk[j,1] + xk[-1,1] \n",
        "      j+=1\n",
        "#---------------------------------------------------------------------------\n",
        "k=1 #Variable auxiliar\n",
        "plt.rcParams[\"figure.figsize\"] = (14,8) #Tamaño de graficos\n",
        "\n",
        "#Amplitudes y graficos paso por paso\n",
        "for i in range((len(xk[:,1])) + (len(hk[:,1])-1)): #Itera el numero de pasos necesarios    \n",
        "\n",
        "#PASO 1\n",
        "#Cuando solo se define [n-2]\n",
        "  if i==0:\n",
        "    result[i,0]=hk[i,0]*xk[i,0]\n",
        "    ax=plt.subplot(5,2,i+1)\n",
        "    plt.stem(result[:,1] , result[:,0], use_line_collection=True )\n",
        "    plt.title(\"Paso \" + str(i+1))\n",
        "    continue\n",
        "\n",
        "#Estan definidos [n-2] y [n-1]\n",
        "#PASO 2\n",
        "  if k-i==0 and k==1:\n",
        "      m=i\n",
        "      while m>=0:\n",
        "        for j in range(k+1):\n",
        "            result[i,0]+= hk[j,0]*xk[m,0]\n",
        "            m-=1\n",
        "      ax=plt.subplot(5,2,i+1)\n",
        "      plt.stem(result[:,1] , result[:,0], use_line_collection=True )\n",
        "      plt.title(\"Paso \" + str(i+1))\n",
        "      if k<len(hk[:,0]): k+=1\n",
        "      continue\n",
        "\n",
        "#Estan definidos todos los impulsos\n",
        "#PASO 3\n",
        "  if k-i==0:\n",
        "    m=i\n",
        "    while m>=0:\n",
        "      for j in range(k+1):\n",
        "        result[i,0]+= hk[j,0]*xk[m,0]\n",
        "        m-=1\n",
        "    ax=plt.subplot(5,2,i+1)\n",
        "    plt.stem(result[:,1] , result[:,0], use_line_collection=True )\n",
        "    plt.title(\"Paso \" + str(i+1))\n",
        "\n",
        "#Se desplazan todos los impulso\n",
        "#PASO 4-7\n",
        "  if k-i<0 and i<len(xk[:,1]):\n",
        "    m=i\n",
        "    while m >=i-k:\n",
        "      for j in range(k+1):\n",
        "        result[i,0]+= hk[j,0]*xk[m,0]\n",
        "        m-=1\n",
        "    ax=plt.subplot(5,2,i+1)\n",
        "    plt.stem(result[:,1] , result[:,0], use_line_collection=True )\n",
        "    plt.title(\"Paso \" + str(i+1))\n",
        "\n",
        "#Empiezan a \"salir\" los impulsos de la señal\n",
        "#PASO 8\n",
        "  if k-i<0 and i>=len(xk[:,1]) and i<(len(result[:,1])-1)   :\n",
        "    m=k\n",
        "    while m>0:\n",
        "      for j in range((len(xk[:,1])-k), len(xk[:,1])):\n",
        "        result[i,0] += hk[m,0]*xk[j,0]\n",
        "        m-=1\n",
        "    k-=1\n",
        "    ax=plt.subplot(5,2,i+1)\n",
        "    plt.stem(result[:,1] , result[:,0], use_line_collection=True )\n",
        "    plt.title(\"Paso \" + str(i+1))\n",
        "\n",
        "#Solo queda el ultimo impulso por operar \n",
        "#PASO 9\n",
        "  if i== (len(result[:,1])-1):\n",
        "    k=len(hk[:,1])-1\n",
        "    result[i,0] += hk[k,0]*xk[-1,0]\n",
        "    ax=plt.subplot(5,2,i+1)\n",
        "    plt.stem(result[:,1] , result[:,0], use_line_collection=True )\n",
        "    plt.title(\"FINAL\")  \n",
        "\n",
        "\n",
        "print(\"y[n] = \", end=\" \")\n",
        "for i in range(len(result[:,0])):\n",
        "  if i==0:\n",
        "    if result[i,1]>=0 and i != 0 :\n",
        "      print(result[i,0],\"s [n -\",result[i,1],\"] \",end=\"\")\n",
        "    else:\n",
        "      print(result[i,0],\"s [n +\",-result[i,1],\"] \",end=\"\")\n",
        "  if i!=0:\n",
        "    if result[i,1]>=0 and i != 0 :\n",
        "      print(\" + \",result[i,0],\"s [n -\",result[i,1],\"] \",end=\"\")\n",
        "    else:\n",
        "      print(\" + \",result[i,0],\"s [n +\",-result[i,1],\"] \",end=\"\")\n"
      ],
      "execution_count": null,
      "outputs": [
        {
          "output_type": "stream",
          "name": "stdout",
          "text": [
            "y[n] =  3.0 s [n + 1.0 ]  +  8.0 s [n - 0.0 ]  +  16.0 s [n - 1.0 ]  +  18.0 s [n - 2.0 ]  +  25.0 s [n - 3.0 ]  +  23.0 s [n - 4.0 ]  +  21.0 s [n - 5.0 ]  +  11.0 s [n - 6.0 ]  +  3.0 s [n - 7.0 ] "
          ]
        },
        {
          "output_type": "display_data",
          "data": {
            "text/plain": [
              "<Figure size 1008x576 with 9 Axes>"
            ],
            "image/png": "[encoded data removed]"
          },
          "metadata": {
            "needs_background": "light"
          }
        }
      ]
    },
    {
      "cell_type": "markdown",
      "source": [
        "**RÚBRICA DE EVALUACIÓN:**\n",
        "\n",
        "---\n",
        "1.   Señales x[n] y h[n]: \n",
        "\n",
        "*   correcto: 100 pts.\n",
        "*   incorrecto: 0 pts.\n",
        "\n",
        "2.   Método 1:\n",
        "\n",
        "*   correcto: 200 pts.\n",
        "*   parcialmente correcto: 100 pts.\n",
        "*   incorrecto: 0 pts.\n",
        "\n",
        "3.   Método 2:\n",
        "\n",
        "*   correcto: 200 pts.\n",
        "*   parcialmente correcto: 100 pts.\n",
        "*   incorrecto: 0 pts.\n",
        "\n",
        "---\n",
        "1. Insatisfactorio: el estudiante solamente define y dibuja las señales de forma correcta.\n",
        "2. En proceso: el estudiante define y dibuja las señales de forma correcta, y realiza la convolución de forma parcialmente correcta con alguno de los métodos.\n",
        "3. Satisfactorio: el estudiante define y dibuja las señales de forma correcta, y realiza la convolución de forma correcta con alguno de los métodos.\n",
        "4. Excelente: el estudiante define y dibuja las señales de forma correcta, y realiza la convolución de forma correcta con los métodos."
      ],
      "metadata": {
        "id": "l1Qj7xDiDW6P"
      }
    }
  ]
}